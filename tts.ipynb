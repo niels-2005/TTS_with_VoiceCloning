{
 "cells": [
  {
   "cell_type": "code",
   "execution_count": 8,
   "metadata": {},
   "outputs": [
    {
     "name": "stdout",
     "output_type": "stream",
     "text": [
      " > tts_models/multilingual/multi-dataset/xtts_v2 is already downloaded.\n",
      " > Using model: xtts\n"
     ]
    }
   ],
   "source": [
    "from TTS.api import TTS\n",
    "\n",
    "# pretrained model with gpu support\n",
    "tts = TTS(\"tts_models/multilingual/multi-dataset/xtts_v2\").to(\"cuda\")"
   ]
  },
  {
   "cell_type": "code",
   "execution_count": 19,
   "metadata": {},
   "outputs": [],
   "source": [
    "# sample text\n",
    "\n",
    "text = \"Artificial intelligence (AI) is revolutionizing industries by automating tasks, enhancing decision making, and improving customer experiences. As AI systems evolve, they learn from vast datasets to perform complex functions, from predictive analytics to natural language processing. The potential of AI continues to expand, offering transformative opportunities across various sectors.\""
   ]
  },
  {
   "cell_type": "code",
   "execution_count": 20,
   "metadata": {},
   "outputs": [
    {
     "name": "stdout",
     "output_type": "stream",
     "text": [
      " > Text splitted to sentences.\n",
      "['Artificial intelligence (AI) is revolutionizing industries by automating tasks, enhancing decision making, and improving customer experiences.', 'As AI systems evolve, they learn from vast datasets to perform complex functions, from predictive analytics to natural language processing.', 'The potential of AI continues to expand, offering transformative opportunities across various sectors.']\n",
      " > Processing time: 9.037118673324585\n",
      " > Real-time factor: 0.2369400371302141\n"
     ]
    },
    {
     "data": {
      "text/plain": [
       "'output.wav'"
      ]
     },
     "execution_count": 20,
     "metadata": {},
     "output_type": "execute_result"
    }
   ],
   "source": [
    "# generate speech by cloning a voice using default settings\n",
    "tts.tts_to_file(text=text,\n",
    "                file_path=\"output.wav\",\n",
    "                speaker_wav=\"meine_stimme.wav\",\n",
    "                language=\"en\")"
   ]
  }
 ],
 "metadata": {
  "kernelspec": {
   "display_name": "tts",
   "language": "python",
   "name": "python3"
  },
  "language_info": {
   "codemirror_mode": {
    "name": "ipython",
    "version": 3
   },
   "file_extension": ".py",
   "mimetype": "text/x-python",
   "name": "python",
   "nbconvert_exporter": "python",
   "pygments_lexer": "ipython3",
   "version": "3.10.14"
  }
 },
 "nbformat": 4,
 "nbformat_minor": 2
}
