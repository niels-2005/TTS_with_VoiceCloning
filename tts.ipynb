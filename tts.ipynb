{
 "cells": [
  {
   "cell_type": "code",
   "execution_count": 2,
   "metadata": {},
   "outputs": [
    {
     "name": "stdout",
     "output_type": "stream",
     "text": [
      " > tts_models/multilingual/multi-dataset/xtts_v2 is already downloaded.\n",
      " > Using model: xtts\n"
     ]
    }
   ],
   "source": [
    "from TTS.api import TTS\n",
    "\n",
    "# pretrained model with gpu support\n",
    "tts = TTS(\"tts_models/multilingual/multi-dataset/xtts_v2\").to(\"cuda\")"
   ]
  },
  {
   "cell_type": "code",
   "execution_count": 3,
   "metadata": {},
   "outputs": [
    {
     "name": "stdout",
     "output_type": "stream",
     "text": [
      " > Text splitted to sentences.\n",
      "['Artificial intelligence (AI) is revolutionizing industries by automating tasks,', 'enhancing decision making, and improving customer experiences.', 'As AI systems evolve,', 'they learn from vast datasets to perform complex functions, from predictive analytics to natural language processing.', 'The potential of AI continues to expand, offering transformative opportunities across various sectors.']\n",
      " > Processing time: 8.766818523406982\n",
      " > Real-time factor: 0.23878435040753895\n"
     ]
    },
    {
     "data": {
      "text/plain": [
       "'ai_english.wav'"
      ]
     },
     "execution_count": 3,
     "metadata": {},
     "output_type": "execute_result"
    }
   ],
   "source": [
    "# sample text english\n",
    "text = \"\"\"Artificial intelligence (AI) is revolutionizing industries by automating tasks, \n",
    "        enhancing decision making, and improving customer experiences. As AI systems evolve, \n",
    "        they learn from vast datasets to perform complex functions, from predictive analytics to natural language processing. \n",
    "        The potential of AI continues to expand, offering transformative opportunities across various sectors.\"\"\"\n",
    "\n",
    "# generate english speech by cloning a voice using default settings\n",
    "tts.tts_to_file(text=text,\n",
    "                file_path=\"ai_english.wav\",\n",
    "                speaker_wav=\"meine_stimme.wav\",\n",
    "                language=\"en\")"
   ]
  },
  {
   "cell_type": "code",
   "execution_count": 4,
   "metadata": {},
   "outputs": [
    {
     "name": "stdout",
     "output_type": "stream",
     "text": [
      " > Text splitted to sentences.\n",
      "['Künstliche Intelligenz (KI) revolutioniert Branchen, indem sie Aufgaben automatisiert,', 'Entscheidungsprozesse verbessert und Kundenerlebnisse optimiert.', 'Mit der Weiterentwicklung von KI-Systemen', 'lernen diese aus umfangreichen Datensätzen, um komplexe Funktionen auszuführen, von prädiktiver Analytik bis zur Verarbeitung natürlicher Sprache.', 'Das Potenzial der KI wächst stetig und bietet transformative Möglichkeiten in verschiedenen Sektoren.']\n",
      " > Processing time: 10.721560001373291\n",
      " > Real-time factor: 0.23478381575473226\n"
     ]
    },
    {
     "data": {
      "text/plain": [
       "'ai_german.wav'"
      ]
     },
     "execution_count": 4,
     "metadata": {},
     "output_type": "execute_result"
    }
   ],
   "source": [
    "# sample text in german\n",
    "text_2 = \"\"\"Künstliche Intelligenz (KI) revolutioniert Branchen, indem sie Aufgaben automatisiert, \n",
    "            Entscheidungsprozesse verbessert und Kundenerlebnisse optimiert. Mit der Weiterentwicklung von KI-Systemen \n",
    "            lernen diese aus umfangreichen Datensätzen, um komplexe Funktionen auszuführen, von prädiktiver Analytik bis zur Verarbeitung natürlicher Sprache. \n",
    "            Das Potenzial der KI wächst stetig und bietet transformative Möglichkeiten in verschiedenen Sektoren.\"\"\"\n",
    "\n",
    "# generate english speech by cloning a voice using default settings\n",
    "tts.tts_to_file(text=text_2,\n",
    "                file_path=\"ai_german.wav\",\n",
    "                speaker_wav=\"meine_stimme.wav\",\n",
    "                language=\"de\")"
   ]
  },
  {
   "cell_type": "code",
   "execution_count": null,
   "metadata": {},
   "outputs": [],
   "source": [
    "# Model supports 17 different Languages!"
   ]
  }
 ],
 "metadata": {
  "kernelspec": {
   "display_name": "tts",
   "language": "python",
   "name": "python3"
  },
  "language_info": {
   "codemirror_mode": {
    "name": "ipython",
    "version": 3
   },
   "file_extension": ".py",
   "mimetype": "text/x-python",
   "name": "python",
   "nbconvert_exporter": "python",
   "pygments_lexer": "ipython3",
   "version": "3.10.14"
  }
 },
 "nbformat": 4,
 "nbformat_minor": 2
}
